{
 "cells": [
  {
   "cell_type": "code",
   "execution_count": 1,
   "id": "ee761786",
   "metadata": {},
   "outputs": [],
   "source": [
    "import numpy as np\n",
    "import pandas as pd\n",
    "import matplotlib as plt\n",
    "from matplotlib import figure\n",
    "import matplotlib.pyplot as plt\n",
    "import seaborn as sns\n",
    "%matplotlib inline\n",
    "\n",
    "from sklearn import metrics\n",
    "from sklearn.model_selection import train_test_split\n",
    "from sklearn.linear_model import LogisticRegression\n",
    "from sklearn.tree import DecisionTreeClassifier\n",
    "from sklearn.ensemble import RandomForestClassifier\n",
    "from sklearn.svm import SVC\n",
    "from sklearn.preprocessing import StandardScaler\n",
    "from sklearn.decomposition import PCA\n",
    "from sklearn.model_selection import cross_val_score \n",
    "from sklearn.model_selection import KFold\n",
    "from sklearn.metrics import f1_score\n",
    "from sklearn.calibration import CalibratedClassifierCV, calibration_curve\n",
    "from sklearn.metrics import classification_report, confusion_matrix\n",
    "import tensorflow as tf\n",
    "from sklearn.calibration import CalibratedClassifierCV, calibration_curve\n",
    "from sklearn.metrics import fbeta_score"
   ]
  },
  {
   "cell_type": "code",
   "execution_count": 112,
   "id": "bf492349",
   "metadata": {},
   "outputs": [],
   "source": [
    "train = pd.read_csv('AE_Deploy\\AE_North1.csv')"
   ]
  },
  {
   "cell_type": "code",
   "execution_count": 113,
   "id": "9c635b8d",
   "metadata": {},
   "outputs": [
    {
     "name": "stdout",
     "output_type": "stream",
     "text": [
      "<class 'pandas.core.frame.DataFrame'>\n",
      "RangeIndex: 34364 entries, 0 to 34363\n",
      "Data columns (total 23 columns):\n",
      " #   Column                                            Non-Null Count  Dtype  \n",
      "---  ------                                            --------------  -----  \n",
      " 0   MH_AandE_Diagnosis                                34364 non-null  int64  \n",
      " 1   MH_OpenToMHSDSAtTimeOfAEAttendance                34364 non-null  int64  \n",
      " 2   IMD                                               33530 non-null  float64\n",
      " 3   Index_Of_Multiple_Deprivation_Decile_Description  33530 non-null  object \n",
      " 4   Sex                                               34364 non-null  int64  \n",
      " 5   Ethnic_Category                                   34364 non-null  object \n",
      " 6   EC_Department_Type                                34364 non-null  int64  \n",
      " 7   Arrival_Month                                     34364 non-null  int64  \n",
      " 8   Age                                               34364 non-null  int64  \n",
      " 9   Age_Band                                          34364 non-null  object \n",
      " 10  Der_Number_AEA_Diagnosis                          34364 non-null  int64  \n",
      " 11  Der_Number_EC_Diagnosis                           34364 non-null  int64  \n",
      " 12  Der_Number_AEA_Investigation                      34364 non-null  int64  \n",
      " 13  Der_Number_EC_Investigation                       34364 non-null  int64  \n",
      " 14  Der_Number_AEA_Treatment                          34364 non-null  int64  \n",
      " 15  Der_Number_EC_Treatment                           34364 non-null  int64  \n",
      " 16  EC_Diagnosis_01                                   34192 non-null  float64\n",
      " 17  AEA_Diagnosis_01                                  19582 non-null  object \n",
      " 18  EC_Investigation_01                               28190 non-null  float64\n",
      " 19  AEA_Investigation_01                              28190 non-null  float64\n",
      " 20  EC_Treatment_01                                   33395 non-null  float64\n",
      " 21  AEA_Treatment_01                                  33395 non-null  float64\n",
      " 22  HRG_Desc                                          34364 non-null  object \n",
      "dtypes: float64(6), int64(12), object(5)\n",
      "memory usage: 6.0+ MB\n"
     ]
    }
   ],
   "source": [
    "train.info()"
   ]
  },
  {
   "cell_type": "code",
   "execution_count": 114,
   "id": "1501a252",
   "metadata": {},
   "outputs": [],
   "source": [
    "#Cleaning and replacing\n",
    "train['Sex'].replace('1', '1', inplace=True)\n",
    "train['Sex'].replace('2', '2', inplace=True)\n",
    "train['Sex'].replace('9', '9', inplace=True)\n",
    "train['Sex'].fillna('1', inplace=True)\n",
    "train[\"IMD\"].fillna(\"5\", inplace = True)\n",
    "train[\"Der_Number_EC_Treatment\"].fillna(\"1\", inplace = True)\n",
    "train[\"EC_Investigation_01\"].fillna(\"252167001\", inplace = True)\n",
    "train[\"EC_Treatment_01\"].fillna(\"88140007\", inplace = True)\n",
    "train[\"Der_Number_EC_Treatment\"].fillna(\"1\", inplace = True)\n",
    "train[\"AEA_Investigation_01\"].fillna(\"5\", inplace = True)\n",
    "train[\"AEA_Treatment_01\"].fillna(\"21\", inplace = True)\n",
    "train[\"Der_Number_AEA_Treatment\"].fillna(\"1\", inplace = True)"
   ]
  },
  {
   "cell_type": "code",
   "execution_count": null,
   "id": "722b3c1c",
   "metadata": {},
   "outputs": [],
   "source": []
  },
  {
   "cell_type": "code",
   "execution_count": 115,
   "id": "7fa2b63b",
   "metadata": {},
   "outputs": [],
   "source": [
    "dfmodel = train[['MH_AandE_Diagnosis',\n",
    "  'MH_OpenToMHSDSAtTimeOfAEAttendance',\n",
    "  'IMD',\n",
    "  'Age',\n",
    "  'Sex',\n",
    "  'Ethnic_Category',\n",
    "  'Age_Band',\n",
    "  'Der_Number_AEA_Diagnosis',\n",
    "  'Der_Number_EC_Diagnosis',\n",
    "  'Der_Number_AEA_Investigation',\n",
    "  'Der_Number_EC_Investigation',                        \n",
    "  'Der_Number_AEA_Treatment',                         \n",
    "  'Der_Number_EC_Treatment']]\n",
    "#'Der_Number_EC_Investigation',\n",
    " # 'Der_Number_AEA_Treatment',\n",
    "  #'Der_Number_EC_Treatment',"
   ]
  },
  {
   "cell_type": "code",
   "execution_count": 116,
   "id": "db8d2a18",
   "metadata": {},
   "outputs": [
    {
     "name": "stdout",
     "output_type": "stream",
     "text": [
      "<class 'pandas.core.frame.DataFrame'>\n",
      "RangeIndex: 34364 entries, 0 to 34363\n",
      "Data columns (total 13 columns):\n",
      " #   Column                              Non-Null Count  Dtype \n",
      "---  ------                              --------------  ----- \n",
      " 0   MH_AandE_Diagnosis                  34364 non-null  int64 \n",
      " 1   MH_OpenToMHSDSAtTimeOfAEAttendance  34364 non-null  int64 \n",
      " 2   IMD                                 34364 non-null  object\n",
      " 3   Age                                 34364 non-null  int64 \n",
      " 4   Sex                                 34364 non-null  int64 \n",
      " 5   Ethnic_Category                     34364 non-null  object\n",
      " 6   Age_Band                            34364 non-null  object\n",
      " 7   Der_Number_AEA_Diagnosis            34364 non-null  int64 \n",
      " 8   Der_Number_EC_Diagnosis             34364 non-null  int64 \n",
      " 9   Der_Number_AEA_Investigation        34364 non-null  int64 \n",
      " 10  Der_Number_EC_Investigation         34364 non-null  int64 \n",
      " 11  Der_Number_AEA_Treatment            34364 non-null  int64 \n",
      " 12  Der_Number_EC_Treatment             34364 non-null  int64 \n",
      "dtypes: int64(10), object(3)\n",
      "memory usage: 3.4+ MB\n"
     ]
    }
   ],
   "source": [
    "dfmodel.info()"
   ]
  },
  {
   "cell_type": "code",
   "execution_count": 117,
   "id": "94602d3f",
   "metadata": {},
   "outputs": [],
   "source": [
    "#Dummy values for model preparation\n",
    "a = pd.get_dummies(dfmodel['Ethnic_Category'], drop_first=True)\n",
    "b = pd.get_dummies(dfmodel['IMD'], drop_first=True)\n",
    "c = pd.get_dummies(dfmodel['Age_Band'], drop_first=True)\n",
    "#d = pd.get_dummies(dfmodel['Sex'], drop_first=True)\n",
    "#e = pd.get_dummies(dfmodel['EC_Investigation_01'], drop_first=True)\n",
    "#f = pd.get_dummies(dfmodel['EC_Treatment_01'], drop_first=True)\n",
    "#g = pd.get_dummies(dfmodel['AEA_Investigation_01'], drop_first=True)\n",
    "#h = pd.get_dummies(dfmodel['HRG_Desc'], drop_first=True)\n",
    "#i = pd.get_dummies(dfmodel['AEA_Treatment_01'], drop_first=True)\n",
    "#j = pd.get_dummies(dfmodel['ICBName'], drop_first=True)\n",
    "#k = pd.get_dummies(dfmodel['MH_OpenToMHSDSAtTimeOfAEAttendance'], drop_first=True)"
   ]
  },
  {
   "cell_type": "code",
   "execution_count": 118,
   "id": "f22877c9",
   "metadata": {},
   "outputs": [
    {
     "name": "stderr",
     "output_type": "stream",
     "text": [
      "C:\\Users\\aatif\\AppData\\Local\\Temp\\ipykernel_35164\\1426948470.py:1: SettingWithCopyWarning: \n",
      "A value is trying to be set on a copy of a slice from a DataFrame\n",
      "\n",
      "See the caveats in the documentation: https://pandas.pydata.org/pandas-docs/stable/user_guide/indexing.html#returning-a-view-versus-a-copy\n",
      "  dfmodel.drop(['IMD','Ethnic_Category','Age_Band'],\n"
     ]
    }
   ],
   "source": [
    "dfmodel.drop(['IMD','Ethnic_Category','Age_Band'],\n",
    "             axis=1,inplace=True)"
   ]
  },
  {
   "cell_type": "code",
   "execution_count": 119,
   "id": "8730c5e3",
   "metadata": {},
   "outputs": [],
   "source": [
    "dfmodel = pd.concat([dfmodel,a,b,c],axis=1)"
   ]
  },
  {
   "cell_type": "code",
   "execution_count": 120,
   "id": "50ee4dfd",
   "metadata": {},
   "outputs": [
    {
     "data": {
      "text/html": [
       "<div>\n",
       "<style scoped>\n",
       "    .dataframe tbody tr th:only-of-type {\n",
       "        vertical-align: middle;\n",
       "    }\n",
       "\n",
       "    .dataframe tbody tr th {\n",
       "        vertical-align: top;\n",
       "    }\n",
       "\n",
       "    .dataframe thead th {\n",
       "        text-align: right;\n",
       "    }\n",
       "</style>\n",
       "<table border=\"1\" class=\"dataframe\">\n",
       "  <thead>\n",
       "    <tr style=\"text-align: right;\">\n",
       "      <th></th>\n",
       "      <th>MH_AandE_Diagnosis</th>\n",
       "      <th>MH_OpenToMHSDSAtTimeOfAEAttendance</th>\n",
       "      <th>Age</th>\n",
       "      <th>Sex</th>\n",
       "      <th>Der_Number_AEA_Diagnosis</th>\n",
       "      <th>Der_Number_EC_Diagnosis</th>\n",
       "      <th>Der_Number_AEA_Investigation</th>\n",
       "      <th>Der_Number_EC_Investigation</th>\n",
       "      <th>Der_Number_AEA_Treatment</th>\n",
       "      <th>Der_Number_EC_Treatment</th>\n",
       "      <th>...</th>\n",
       "      <th>9.0</th>\n",
       "      <th>10.0</th>\n",
       "      <th>5</th>\n",
       "      <th>06-16yrs</th>\n",
       "      <th>17-40yrs</th>\n",
       "      <th>41-50yrs</th>\n",
       "      <th>51-60yrs</th>\n",
       "      <th>61-70yrs</th>\n",
       "      <th>71-84yrs</th>\n",
       "      <th>85+yrs</th>\n",
       "    </tr>\n",
       "  </thead>\n",
       "  <tbody>\n",
       "    <tr>\n",
       "      <th>0</th>\n",
       "      <td>1</td>\n",
       "      <td>0</td>\n",
       "      <td>53</td>\n",
       "      <td>2</td>\n",
       "      <td>0</td>\n",
       "      <td>2</td>\n",
       "      <td>7</td>\n",
       "      <td>7</td>\n",
       "      <td>1</td>\n",
       "      <td>1</td>\n",
       "      <td>...</td>\n",
       "      <td>0</td>\n",
       "      <td>0</td>\n",
       "      <td>0</td>\n",
       "      <td>0</td>\n",
       "      <td>0</td>\n",
       "      <td>0</td>\n",
       "      <td>1</td>\n",
       "      <td>0</td>\n",
       "      <td>0</td>\n",
       "      <td>0</td>\n",
       "    </tr>\n",
       "    <tr>\n",
       "      <th>1</th>\n",
       "      <td>1</td>\n",
       "      <td>0</td>\n",
       "      <td>48</td>\n",
       "      <td>2</td>\n",
       "      <td>0</td>\n",
       "      <td>1</td>\n",
       "      <td>1</td>\n",
       "      <td>1</td>\n",
       "      <td>1</td>\n",
       "      <td>1</td>\n",
       "      <td>...</td>\n",
       "      <td>0</td>\n",
       "      <td>0</td>\n",
       "      <td>0</td>\n",
       "      <td>0</td>\n",
       "      <td>0</td>\n",
       "      <td>1</td>\n",
       "      <td>0</td>\n",
       "      <td>0</td>\n",
       "      <td>0</td>\n",
       "      <td>0</td>\n",
       "    </tr>\n",
       "    <tr>\n",
       "      <th>2</th>\n",
       "      <td>1</td>\n",
       "      <td>1</td>\n",
       "      <td>54</td>\n",
       "      <td>2</td>\n",
       "      <td>0</td>\n",
       "      <td>1</td>\n",
       "      <td>1</td>\n",
       "      <td>1</td>\n",
       "      <td>1</td>\n",
       "      <td>1</td>\n",
       "      <td>...</td>\n",
       "      <td>0</td>\n",
       "      <td>0</td>\n",
       "      <td>0</td>\n",
       "      <td>0</td>\n",
       "      <td>0</td>\n",
       "      <td>0</td>\n",
       "      <td>1</td>\n",
       "      <td>0</td>\n",
       "      <td>0</td>\n",
       "      <td>0</td>\n",
       "    </tr>\n",
       "    <tr>\n",
       "      <th>3</th>\n",
       "      <td>1</td>\n",
       "      <td>1</td>\n",
       "      <td>14</td>\n",
       "      <td>2</td>\n",
       "      <td>0</td>\n",
       "      <td>1</td>\n",
       "      <td>0</td>\n",
       "      <td>0</td>\n",
       "      <td>1</td>\n",
       "      <td>1</td>\n",
       "      <td>...</td>\n",
       "      <td>0</td>\n",
       "      <td>0</td>\n",
       "      <td>0</td>\n",
       "      <td>1</td>\n",
       "      <td>0</td>\n",
       "      <td>0</td>\n",
       "      <td>0</td>\n",
       "      <td>0</td>\n",
       "      <td>0</td>\n",
       "      <td>0</td>\n",
       "    </tr>\n",
       "    <tr>\n",
       "      <th>4</th>\n",
       "      <td>1</td>\n",
       "      <td>1</td>\n",
       "      <td>49</td>\n",
       "      <td>1</td>\n",
       "      <td>0</td>\n",
       "      <td>2</td>\n",
       "      <td>2</td>\n",
       "      <td>2</td>\n",
       "      <td>2</td>\n",
       "      <td>2</td>\n",
       "      <td>...</td>\n",
       "      <td>0</td>\n",
       "      <td>1</td>\n",
       "      <td>0</td>\n",
       "      <td>0</td>\n",
       "      <td>0</td>\n",
       "      <td>1</td>\n",
       "      <td>0</td>\n",
       "      <td>0</td>\n",
       "      <td>0</td>\n",
       "      <td>0</td>\n",
       "    </tr>\n",
       "  </tbody>\n",
       "</table>\n",
       "<p>5 rows × 43 columns</p>\n",
       "</div>"
      ],
      "text/plain": [
       "   MH_AandE_Diagnosis  MH_OpenToMHSDSAtTimeOfAEAttendance  Age  Sex  \\\n",
       "0                   1                                   0   53    2   \n",
       "1                   1                                   0   48    2   \n",
       "2                   1                                   1   54    2   \n",
       "3                   1                                   1   14    2   \n",
       "4                   1                                   1   49    1   \n",
       "\n",
       "   Der_Number_AEA_Diagnosis  Der_Number_EC_Diagnosis  \\\n",
       "0                         0                        2   \n",
       "1                         0                        1   \n",
       "2                         0                        1   \n",
       "3                         0                        1   \n",
       "4                         0                        2   \n",
       "\n",
       "   Der_Number_AEA_Investigation  Der_Number_EC_Investigation  \\\n",
       "0                             7                            7   \n",
       "1                             1                            1   \n",
       "2                             1                            1   \n",
       "3                             0                            0   \n",
       "4                             2                            2   \n",
       "\n",
       "   Der_Number_AEA_Treatment  Der_Number_EC_Treatment  ...  9.0  10.0  5  \\\n",
       "0                         1                        1  ...    0     0  0   \n",
       "1                         1                        1  ...    0     0  0   \n",
       "2                         1                        1  ...    0     0  0   \n",
       "3                         1                        1  ...    0     0  0   \n",
       "4                         2                        2  ...    0     1  0   \n",
       "\n",
       "   06-16yrs  17-40yrs  41-50yrs  51-60yrs  61-70yrs  71-84yrs  85+yrs  \n",
       "0         0         0         0         1         0         0       0  \n",
       "1         0         0         1         0         0         0       0  \n",
       "2         0         0         0         1         0         0       0  \n",
       "3         1         0         0         0         0         0       0  \n",
       "4         0         0         1         0         0         0       0  \n",
       "\n",
       "[5 rows x 43 columns]"
      ]
     },
     "execution_count": 120,
     "metadata": {},
     "output_type": "execute_result"
    }
   ],
   "source": [
    "dfmodel.head()"
   ]
  },
  {
   "cell_type": "code",
   "execution_count": 98,
   "id": "4b748c8f",
   "metadata": {},
   "outputs": [
    {
     "ename": "KeyError",
     "evalue": "\"['IMD', 'Ethnic_Category'] not in index\"",
     "output_type": "error",
     "traceback": [
      "\u001b[1;31m---------------------------------------------------------------------------\u001b[0m",
      "\u001b[1;31mKeyError\u001b[0m                                  Traceback (most recent call last)",
      "\u001b[1;32m~\\AppData\\Local\\Temp\\ipykernel_35164\\1029560823.py\u001b[0m in \u001b[0;36m<module>\u001b[1;34m\u001b[0m\n\u001b[1;32m----> 1\u001b[1;33m test = dfmodel[['MH_AandE_Diagnosis',\n\u001b[0m\u001b[0;32m      2\u001b[0m   \u001b[1;34m'MH_OpenToMHSDSAtTimeOfAEAttendance'\u001b[0m\u001b[1;33m,\u001b[0m\u001b[1;33m\u001b[0m\u001b[1;33m\u001b[0m\u001b[0m\n\u001b[0;32m      3\u001b[0m   \u001b[1;34m'IMD'\u001b[0m\u001b[1;33m,\u001b[0m\u001b[1;33m\u001b[0m\u001b[1;33m\u001b[0m\u001b[0m\n\u001b[0;32m      4\u001b[0m   \u001b[1;34m'Age'\u001b[0m\u001b[1;33m,\u001b[0m\u001b[1;33m\u001b[0m\u001b[1;33m\u001b[0m\u001b[0m\n\u001b[0;32m      5\u001b[0m   \u001b[1;34m'Ethnic_Category'\u001b[0m\u001b[1;33m,\u001b[0m\u001b[1;33m\u001b[0m\u001b[1;33m\u001b[0m\u001b[0m\n",
      "\u001b[1;32m~\\Anaconda3\\lib\\site-packages\\pandas\\core\\frame.py\u001b[0m in \u001b[0;36m__getitem__\u001b[1;34m(self, key)\u001b[0m\n\u001b[0;32m   3509\u001b[0m             \u001b[1;32mif\u001b[0m \u001b[0mis_iterator\u001b[0m\u001b[1;33m(\u001b[0m\u001b[0mkey\u001b[0m\u001b[1;33m)\u001b[0m\u001b[1;33m:\u001b[0m\u001b[1;33m\u001b[0m\u001b[1;33m\u001b[0m\u001b[0m\n\u001b[0;32m   3510\u001b[0m                 \u001b[0mkey\u001b[0m \u001b[1;33m=\u001b[0m \u001b[0mlist\u001b[0m\u001b[1;33m(\u001b[0m\u001b[0mkey\u001b[0m\u001b[1;33m)\u001b[0m\u001b[1;33m\u001b[0m\u001b[1;33m\u001b[0m\u001b[0m\n\u001b[1;32m-> 3511\u001b[1;33m             \u001b[0mindexer\u001b[0m \u001b[1;33m=\u001b[0m \u001b[0mself\u001b[0m\u001b[1;33m.\u001b[0m\u001b[0mcolumns\u001b[0m\u001b[1;33m.\u001b[0m\u001b[0m_get_indexer_strict\u001b[0m\u001b[1;33m(\u001b[0m\u001b[0mkey\u001b[0m\u001b[1;33m,\u001b[0m \u001b[1;34m\"columns\"\u001b[0m\u001b[1;33m)\u001b[0m\u001b[1;33m[\u001b[0m\u001b[1;36m1\u001b[0m\u001b[1;33m]\u001b[0m\u001b[1;33m\u001b[0m\u001b[1;33m\u001b[0m\u001b[0m\n\u001b[0m\u001b[0;32m   3512\u001b[0m \u001b[1;33m\u001b[0m\u001b[0m\n\u001b[0;32m   3513\u001b[0m         \u001b[1;31m# take() does not accept boolean indexers\u001b[0m\u001b[1;33m\u001b[0m\u001b[1;33m\u001b[0m\u001b[0m\n",
      "\u001b[1;32m~\\Anaconda3\\lib\\site-packages\\pandas\\core\\indexes\\base.py\u001b[0m in \u001b[0;36m_get_indexer_strict\u001b[1;34m(self, key, axis_name)\u001b[0m\n\u001b[0;32m   5794\u001b[0m             \u001b[0mkeyarr\u001b[0m\u001b[1;33m,\u001b[0m \u001b[0mindexer\u001b[0m\u001b[1;33m,\u001b[0m \u001b[0mnew_indexer\u001b[0m \u001b[1;33m=\u001b[0m \u001b[0mself\u001b[0m\u001b[1;33m.\u001b[0m\u001b[0m_reindex_non_unique\u001b[0m\u001b[1;33m(\u001b[0m\u001b[0mkeyarr\u001b[0m\u001b[1;33m)\u001b[0m\u001b[1;33m\u001b[0m\u001b[1;33m\u001b[0m\u001b[0m\n\u001b[0;32m   5795\u001b[0m \u001b[1;33m\u001b[0m\u001b[0m\n\u001b[1;32m-> 5796\u001b[1;33m         \u001b[0mself\u001b[0m\u001b[1;33m.\u001b[0m\u001b[0m_raise_if_missing\u001b[0m\u001b[1;33m(\u001b[0m\u001b[0mkeyarr\u001b[0m\u001b[1;33m,\u001b[0m \u001b[0mindexer\u001b[0m\u001b[1;33m,\u001b[0m \u001b[0maxis_name\u001b[0m\u001b[1;33m)\u001b[0m\u001b[1;33m\u001b[0m\u001b[1;33m\u001b[0m\u001b[0m\n\u001b[0m\u001b[0;32m   5797\u001b[0m \u001b[1;33m\u001b[0m\u001b[0m\n\u001b[0;32m   5798\u001b[0m         \u001b[0mkeyarr\u001b[0m \u001b[1;33m=\u001b[0m \u001b[0mself\u001b[0m\u001b[1;33m.\u001b[0m\u001b[0mtake\u001b[0m\u001b[1;33m(\u001b[0m\u001b[0mindexer\u001b[0m\u001b[1;33m)\u001b[0m\u001b[1;33m\u001b[0m\u001b[1;33m\u001b[0m\u001b[0m\n",
      "\u001b[1;32m~\\Anaconda3\\lib\\site-packages\\pandas\\core\\indexes\\base.py\u001b[0m in \u001b[0;36m_raise_if_missing\u001b[1;34m(self, key, indexer, axis_name)\u001b[0m\n\u001b[0;32m   5857\u001b[0m \u001b[1;33m\u001b[0m\u001b[0m\n\u001b[0;32m   5858\u001b[0m             \u001b[0mnot_found\u001b[0m \u001b[1;33m=\u001b[0m \u001b[0mlist\u001b[0m\u001b[1;33m(\u001b[0m\u001b[0mensure_index\u001b[0m\u001b[1;33m(\u001b[0m\u001b[0mkey\u001b[0m\u001b[1;33m)\u001b[0m\u001b[1;33m[\u001b[0m\u001b[0mmissing_mask\u001b[0m\u001b[1;33m.\u001b[0m\u001b[0mnonzero\u001b[0m\u001b[1;33m(\u001b[0m\u001b[1;33m)\u001b[0m\u001b[1;33m[\u001b[0m\u001b[1;36m0\u001b[0m\u001b[1;33m]\u001b[0m\u001b[1;33m]\u001b[0m\u001b[1;33m.\u001b[0m\u001b[0munique\u001b[0m\u001b[1;33m(\u001b[0m\u001b[1;33m)\u001b[0m\u001b[1;33m)\u001b[0m\u001b[1;33m\u001b[0m\u001b[1;33m\u001b[0m\u001b[0m\n\u001b[1;32m-> 5859\u001b[1;33m             \u001b[1;32mraise\u001b[0m \u001b[0mKeyError\u001b[0m\u001b[1;33m(\u001b[0m\u001b[1;34mf\"{not_found} not in index\"\u001b[0m\u001b[1;33m)\u001b[0m\u001b[1;33m\u001b[0m\u001b[1;33m\u001b[0m\u001b[0m\n\u001b[0m\u001b[0;32m   5860\u001b[0m \u001b[1;33m\u001b[0m\u001b[0m\n\u001b[0;32m   5861\u001b[0m     \u001b[1;33m@\u001b[0m\u001b[0moverload\u001b[0m\u001b[1;33m\u001b[0m\u001b[1;33m\u001b[0m\u001b[0m\n",
      "\u001b[1;31mKeyError\u001b[0m: \"['IMD', 'Ethnic_Category'] not in index\""
     ]
    }
   ],
   "source": [
    "test = dfmodel[['MH_AandE_Diagnosis',\n",
    "  'MH_OpenToMHSDSAtTimeOfAEAttendance',\n",
    "  'IMD',\n",
    "  'Age',\n",
    "  'Ethnic_Category',\n",
    "  'Der_Number_AEA_Diagnosis',\n",
    "  'Der_Number_EC_Diagnosis',\n",
    "  'Der_Number_AEA_Investigation',\n",
    "  'Der_Number_EC_Investigation',                        \n",
    "  'Der_Number_AEA_Treatment',                         \n",
    "  'Der_Number_EC_Treatment']]"
   ]
  },
  {
   "cell_type": "code",
   "execution_count": 121,
   "id": "b9fad09b",
   "metadata": {},
   "outputs": [],
   "source": [
    "dftest = dfmodel[np.isfinite(dfmodel).all(1)]"
   ]
  },
  {
   "cell_type": "code",
   "execution_count": 124,
   "id": "4ff909b6",
   "metadata": {},
   "outputs": [],
   "source": [
    "X = dftest.drop('MH_OpenToMHSDSAtTimeOfAEAttendance',axis=1)\n",
    "y = dftest['MH_OpenToMHSDSAtTimeOfAEAttendance']"
   ]
  },
  {
   "cell_type": "code",
   "execution_count": null,
   "id": "d1921e55",
   "metadata": {},
   "outputs": [],
   "source": []
  },
  {
   "cell_type": "code",
   "execution_count": 126,
   "id": "0f28784e",
   "metadata": {},
   "outputs": [],
   "source": [
    "X_train, X_test, y_train, y_test = train_test_split(X,y, test_size=0.20, random_state=101)"
   ]
  },
  {
   "cell_type": "code",
   "execution_count": 127,
   "id": "96e2a9c8",
   "metadata": {},
   "outputs": [],
   "source": [
    "#Standardisation\n",
    "sc_X = StandardScaler()\n",
    "X_train = sc_X.fit_transform(X_train)\n",
    "X_test = sc_X.transform(X_test)"
   ]
  },
  {
   "cell_type": "code",
   "execution_count": 128,
   "id": "5e020749",
   "metadata": {},
   "outputs": [
    {
     "name": "stdout",
     "output_type": "stream",
     "text": [
      "              precision    recall  f1-score   support\n",
      "\n",
      "           0       0.68      0.67      0.67      4018\n",
      "           1       0.54      0.55      0.54      2855\n",
      "\n",
      "    accuracy                           0.62      6873\n",
      "   macro avg       0.61      0.61      0.61      6873\n",
      "weighted avg       0.62      0.62      0.62      6873\n",
      "\n",
      "[[2699 1319]\n",
      " [1296 1559]]\n",
      "0.5438688295831152\n"
     ]
    }
   ],
   "source": [
    "#RANDOM FOREST\n",
    "rfc = RandomForestClassifier(n_estimators=100)\n",
    "rfc.fit(X_train,y_train)\n",
    "predictions = rfc.predict(X_test)\n",
    "print(classification_report(y_test,predictions))\n",
    "print(confusion_matrix(y_test,predictions))\n",
    "f = fbeta_score(y_test, predictions, beta=1.0)\n",
    "print(f)"
   ]
  },
  {
   "cell_type": "code",
   "execution_count": 129,
   "id": "47d010ee",
   "metadata": {},
   "outputs": [],
   "source": [
    "import pickle\n",
    "pickle.dump(rfc, open('testmodel.pkl','wb'))"
   ]
  },
  {
   "cell_type": "code",
   "execution_count": 135,
   "id": "938319f8",
   "metadata": {},
   "outputs": [
    {
     "data": {
      "text/plain": [
       "RandomForestClassifier()"
      ]
     },
     "execution_count": 135,
     "metadata": {},
     "output_type": "execute_result"
    }
   ],
   "source": [
    "pickle.load(open('testmodel.pkl','rb'))"
   ]
  },
  {
   "cell_type": "code",
   "execution_count": null,
   "id": "7da28f5d",
   "metadata": {},
   "outputs": [],
   "source": []
  },
  {
   "cell_type": "code",
   "execution_count": 125,
   "id": "a094c966",
   "metadata": {},
   "outputs": [],
   "source": [
    "#X = X[['MH_AandE_Diagnosis',\n",
    "  'Sex',\n",
    "  'Age',\n",
    "  'Der_Number_AEA_Diagnosis',\n",
    "  'Der_Number_EC_Diagnosis',\n",
    "  'Der_Number_AEA_Investigation',\n",
    "  'Der_Number_EC_Investigation',                        \n",
    "  'Der_Number_AEA_Treatment',                         \n",
    "  'Der_Number_EC_Treatment']]"
   ]
  },
  {
   "cell_type": "code",
   "execution_count": null,
   "id": "684f6ddf",
   "metadata": {},
   "outputs": [],
   "source": []
  }
 ],
 "metadata": {
  "kernelspec": {
   "display_name": "Python 3 (ipykernel)",
   "language": "python",
   "name": "python3"
  },
  "language_info": {
   "codemirror_mode": {
    "name": "ipython",
    "version": 3
   },
   "file_extension": ".py",
   "mimetype": "text/x-python",
   "name": "python",
   "nbconvert_exporter": "python",
   "pygments_lexer": "ipython3",
   "version": "3.9.13"
  }
 },
 "nbformat": 4,
 "nbformat_minor": 5
}
